{
 "cells": [
  {
   "cell_type": "code",
   "execution_count": 92,
   "id": "73b4f0ec",
   "metadata": {
    "scrolled": true
   },
   "outputs": [],
   "source": [
    "import numpy as np\n",
    "import matplotlib.pyplot as plt\n",
    "import pandas as pd\n",
    "import seaborn as sns\n",
    "\n",
    "import itertools\n",
    "\n",
    "from sklearn import tree, metrics\n",
    "\n",
    "import umap\n",
    "import lightgbm as lgb\n",
    "\n",
    "import optuna\n",
    "import optuna.integration.lightgbm as lgb_opt"
   ]
  },
  {
   "cell_type": "markdown",
   "id": "1fb8454a-fd73-4517-af71-200d39987254",
   "metadata": {},
   "source": [
    "# Load Features"
   ]
  },
  {
   "cell_type": "code",
   "execution_count": 82,
   "id": "a944e295-582e-4d2c-a2ba-f5879ba994b5",
   "metadata": {},
   "outputs": [
    {
     "data": {
      "text/plain": [
       "(5193671, 12)"
      ]
     },
     "execution_count": 82,
     "metadata": {},
     "output_type": "execute_result"
    }
   ],
   "source": [
    "hazard = 1e-2\n",
    "changepoint = pd.read_pickle(f'bayes changepoint/feature {hazard:.0e}.pickle')\n",
    "changepoint.shape"
   ]
  },
  {
   "cell_type": "code",
   "execution_count": 83,
   "id": "b6d4ba09-e258-430b-b2f8-a4a14c67b03b",
   "metadata": {},
   "outputs": [
    {
     "data": {
      "text/plain": [
       "(5262401, 2)"
      ]
     },
     "execution_count": 83,
     "metadata": {},
     "output_type": "execute_result"
    }
   ],
   "source": [
    "slope_i,slope_j = 3,5\n",
    "std_i,std_j = 3,2\n",
    "l1_nn = pd.read_pickle(f'dense_nn_trend_std/feature {slope_i}-{slope_j} {std_i}-{std_j}.pickle')\n",
    "l1_nn.shape"
   ]
  },
  {
   "cell_type": "code",
   "execution_count": 84,
   "id": "5bc11d64-1e64-4fd6-bdec-abfb52c5f7de",
   "metadata": {},
   "outputs": [
    {
     "data": {
      "text/html": [
       "<div>\n",
       "<style scoped>\n",
       "    .dataframe tbody tr th:only-of-type {\n",
       "        vertical-align: middle;\n",
       "    }\n",
       "\n",
       "    .dataframe tbody tr th {\n",
       "        vertical-align: top;\n",
       "    }\n",
       "\n",
       "    .dataframe thead th {\n",
       "        text-align: right;\n",
       "    }\n",
       "</style>\n",
       "<table border=\"1\" class=\"dataframe\">\n",
       "  <thead>\n",
       "    <tr style=\"text-align: right;\">\n",
       "      <th></th>\n",
       "      <th></th>\n",
       "      <th>best_slope</th>\n",
       "      <th>best_idx</th>\n",
       "      <th>best_t</th>\n",
       "      <th>best_mean</th>\n",
       "      <th>close_minus_best_intercept</th>\n",
       "      <th>best_se</th>\n",
       "      <th>sec_best_slope</th>\n",
       "      <th>sec_best_idx</th>\n",
       "      <th>sec_best_t</th>\n",
       "      <th>sec_best_mean</th>\n",
       "      <th>close_minus_sec_best_intercept</th>\n",
       "      <th>sec_best_se</th>\n",
       "      <th>slope</th>\n",
       "      <th>std</th>\n",
       "    </tr>\n",
       "    <tr>\n",
       "      <th>datetime</th>\n",
       "      <th>ticker</th>\n",
       "      <th></th>\n",
       "      <th></th>\n",
       "      <th></th>\n",
       "      <th></th>\n",
       "      <th></th>\n",
       "      <th></th>\n",
       "      <th></th>\n",
       "      <th></th>\n",
       "      <th></th>\n",
       "      <th></th>\n",
       "      <th></th>\n",
       "      <th></th>\n",
       "      <th></th>\n",
       "      <th></th>\n",
       "    </tr>\n",
       "  </thead>\n",
       "  <tbody>\n",
       "    <tr>\n",
       "      <th>2018-12-06</th>\n",
       "      <th>AAAU</th>\n",
       "      <td>0.000818</td>\n",
       "      <td>15.0</td>\n",
       "      <td>2.675504</td>\n",
       "      <td>-8.5</td>\n",
       "      <td>0.007697</td>\n",
       "      <td>0.000725</td>\n",
       "      <td>0.003342</td>\n",
       "      <td>2.0</td>\n",
       "      <td>3.223280</td>\n",
       "      <td>-2.0</td>\n",
       "      <td>0.001925</td>\n",
       "      <td>0.000032</td>\n",
       "      <td>0.007984</td>\n",
       "      <td>0.018814</td>\n",
       "    </tr>\n",
       "    <tr>\n",
       "      <th>2018-12-07</th>\n",
       "      <th>AAAU</th>\n",
       "      <td>0.003139</td>\n",
       "      <td>3.0</td>\n",
       "      <td>4.558485</td>\n",
       "      <td>-2.5</td>\n",
       "      <td>0.009772</td>\n",
       "      <td>0.000033</td>\n",
       "      <td>0.003204</td>\n",
       "      <td>4.0</td>\n",
       "      <td>6.560595</td>\n",
       "      <td>-3.0</td>\n",
       "      <td>0.009664</td>\n",
       "      <td>0.000033</td>\n",
       "      <td>0.005233</td>\n",
       "      <td>0.012483</td>\n",
       "    </tr>\n",
       "    <tr>\n",
       "      <th>2018-12-10</th>\n",
       "      <th>AAAU</th>\n",
       "      <td>0.003850</td>\n",
       "      <td>4.0</td>\n",
       "      <td>6.046192</td>\n",
       "      <td>-3.0</td>\n",
       "      <td>-0.001291</td>\n",
       "      <td>0.000057</td>\n",
       "      <td>0.003743</td>\n",
       "      <td>5.0</td>\n",
       "      <td>7.819045</td>\n",
       "      <td>-3.5</td>\n",
       "      <td>-0.001076</td>\n",
       "      <td>0.000058</td>\n",
       "      <td>0.000966</td>\n",
       "      <td>0.015387</td>\n",
       "    </tr>\n",
       "    <tr>\n",
       "      <th>2018-12-11</th>\n",
       "      <th>AAAU</th>\n",
       "      <td>0.003422</td>\n",
       "      <td>5.0</td>\n",
       "      <td>6.393244</td>\n",
       "      <td>-3.5</td>\n",
       "      <td>-0.004286</td>\n",
       "      <td>0.000072</td>\n",
       "      <td>0.002306</td>\n",
       "      <td>8.0</td>\n",
       "      <td>4.636215</td>\n",
       "      <td>-5.0</td>\n",
       "      <td>-0.001121</td>\n",
       "      <td>0.000245</td>\n",
       "      <td>0.000879</td>\n",
       "      <td>0.011897</td>\n",
       "    </tr>\n",
       "    <tr>\n",
       "      <th>2018-12-12</th>\n",
       "      <th>AAAU</th>\n",
       "      <td>0.002908</td>\n",
       "      <td>6.0</td>\n",
       "      <td>5.704163</td>\n",
       "      <td>-4.0</td>\n",
       "      <td>-0.002264</td>\n",
       "      <td>0.000109</td>\n",
       "      <td>0.002244</td>\n",
       "      <td>3.0</td>\n",
       "      <td>2.144267</td>\n",
       "      <td>-2.5</td>\n",
       "      <td>-0.001220</td>\n",
       "      <td>0.000077</td>\n",
       "      <td>0.002160</td>\n",
       "      <td>0.009889</td>\n",
       "    </tr>\n",
       "    <tr>\n",
       "      <th>...</th>\n",
       "      <th>...</th>\n",
       "      <td>...</td>\n",
       "      <td>...</td>\n",
       "      <td>...</td>\n",
       "      <td>...</td>\n",
       "      <td>...</td>\n",
       "      <td>...</td>\n",
       "      <td>...</td>\n",
       "      <td>...</td>\n",
       "      <td>...</td>\n",
       "      <td>...</td>\n",
       "      <td>...</td>\n",
       "      <td>...</td>\n",
       "      <td>...</td>\n",
       "      <td>...</td>\n",
       "    </tr>\n",
       "    <tr>\n",
       "      <th>2023-11-30</th>\n",
       "      <th>ZSL</th>\n",
       "      <td>-0.016791</td>\n",
       "      <td>12.0</td>\n",
       "      <td>-10.248092</td>\n",
       "      <td>-7.0</td>\n",
       "      <td>-0.024527</td>\n",
       "      <td>0.009771</td>\n",
       "      <td>-0.015692</td>\n",
       "      <td>13.0</td>\n",
       "      <td>-10.014113</td>\n",
       "      <td>-7.5</td>\n",
       "      <td>-0.029655</td>\n",
       "      <td>0.011687</td>\n",
       "      <td>-0.008428</td>\n",
       "      <td>0.031025</td>\n",
       "    </tr>\n",
       "    <tr>\n",
       "      <th>2023-12-01</th>\n",
       "      <th>ZSL</th>\n",
       "      <td>-0.016961</td>\n",
       "      <td>13.0</td>\n",
       "      <td>-11.810355</td>\n",
       "      <td>-7.5</td>\n",
       "      <td>-0.021768</td>\n",
       "      <td>0.009817</td>\n",
       "      <td>-0.015965</td>\n",
       "      <td>14.0</td>\n",
       "      <td>-11.478212</td>\n",
       "      <td>-8.0</td>\n",
       "      <td>-0.026747</td>\n",
       "      <td>0.011840</td>\n",
       "      <td>-0.006173</td>\n",
       "      <td>0.030516</td>\n",
       "    </tr>\n",
       "    <tr>\n",
       "      <th>2023-12-04</th>\n",
       "      <th>ZSL</th>\n",
       "      <td>-0.014612</td>\n",
       "      <td>2.0</td>\n",
       "      <td>-5.934493</td>\n",
       "      <td>-2.0</td>\n",
       "      <td>0.070398</td>\n",
       "      <td>0.000182</td>\n",
       "      <td>-0.017055</td>\n",
       "      <td>14.0</td>\n",
       "      <td>-13.453685</td>\n",
       "      <td>-8.0</td>\n",
       "      <td>0.067625</td>\n",
       "      <td>0.009835</td>\n",
       "      <td>-0.000732</td>\n",
       "      <td>0.031168</td>\n",
       "    </tr>\n",
       "    <tr>\n",
       "      <th>2023-12-05</th>\n",
       "      <th>ZSL</th>\n",
       "      <td>0.003709</td>\n",
       "      <td>2.0</td>\n",
       "      <td>0.388590</td>\n",
       "      <td>-2.0</td>\n",
       "      <td>0.064718</td>\n",
       "      <td>0.002733</td>\n",
       "      <td>-0.002467</td>\n",
       "      <td>3.0</td>\n",
       "      <td>-0.342961</td>\n",
       "      <td>-2.5</td>\n",
       "      <td>0.072953</td>\n",
       "      <td>0.003623</td>\n",
       "      <td>0.002134</td>\n",
       "      <td>0.030267</td>\n",
       "    </tr>\n",
       "    <tr>\n",
       "      <th>2023-12-06</th>\n",
       "      <th>ZSL</th>\n",
       "      <td>0.012424</td>\n",
       "      <td>3.0</td>\n",
       "      <td>1.548675</td>\n",
       "      <td>-2.5</td>\n",
       "      <td>0.047381</td>\n",
       "      <td>0.004505</td>\n",
       "      <td>0.005613</td>\n",
       "      <td>4.0</td>\n",
       "      <td>0.813229</td>\n",
       "      <td>-3.0</td>\n",
       "      <td>0.058732</td>\n",
       "      <td>0.006670</td>\n",
       "      <td>0.004318</td>\n",
       "      <td>0.032027</td>\n",
       "    </tr>\n",
       "  </tbody>\n",
       "</table>\n",
       "<p>5124941 rows × 14 columns</p>\n",
       "</div>"
      ],
      "text/plain": [
       "                   best_slope  best_idx     best_t  best_mean  \\\n",
       "datetime   ticker                                               \n",
       "2018-12-06 AAAU      0.000818      15.0   2.675504       -8.5   \n",
       "2018-12-07 AAAU      0.003139       3.0   4.558485       -2.5   \n",
       "2018-12-10 AAAU      0.003850       4.0   6.046192       -3.0   \n",
       "2018-12-11 AAAU      0.003422       5.0   6.393244       -3.5   \n",
       "2018-12-12 AAAU      0.002908       6.0   5.704163       -4.0   \n",
       "...                       ...       ...        ...        ...   \n",
       "2023-11-30 ZSL      -0.016791      12.0 -10.248092       -7.0   \n",
       "2023-12-01 ZSL      -0.016961      13.0 -11.810355       -7.5   \n",
       "2023-12-04 ZSL      -0.014612       2.0  -5.934493       -2.0   \n",
       "2023-12-05 ZSL       0.003709       2.0   0.388590       -2.0   \n",
       "2023-12-06 ZSL       0.012424       3.0   1.548675       -2.5   \n",
       "\n",
       "                   close_minus_best_intercept   best_se  sec_best_slope  \\\n",
       "datetime   ticker                                                         \n",
       "2018-12-06 AAAU                      0.007697  0.000725        0.003342   \n",
       "2018-12-07 AAAU                      0.009772  0.000033        0.003204   \n",
       "2018-12-10 AAAU                     -0.001291  0.000057        0.003743   \n",
       "2018-12-11 AAAU                     -0.004286  0.000072        0.002306   \n",
       "2018-12-12 AAAU                     -0.002264  0.000109        0.002244   \n",
       "...                                       ...       ...             ...   \n",
       "2023-11-30 ZSL                      -0.024527  0.009771       -0.015692   \n",
       "2023-12-01 ZSL                      -0.021768  0.009817       -0.015965   \n",
       "2023-12-04 ZSL                       0.070398  0.000182       -0.017055   \n",
       "2023-12-05 ZSL                       0.064718  0.002733       -0.002467   \n",
       "2023-12-06 ZSL                       0.047381  0.004505        0.005613   \n",
       "\n",
       "                   sec_best_idx  sec_best_t  sec_best_mean  \\\n",
       "datetime   ticker                                            \n",
       "2018-12-06 AAAU             2.0    3.223280           -2.0   \n",
       "2018-12-07 AAAU             4.0    6.560595           -3.0   \n",
       "2018-12-10 AAAU             5.0    7.819045           -3.5   \n",
       "2018-12-11 AAAU             8.0    4.636215           -5.0   \n",
       "2018-12-12 AAAU             3.0    2.144267           -2.5   \n",
       "...                         ...         ...            ...   \n",
       "2023-11-30 ZSL             13.0  -10.014113           -7.5   \n",
       "2023-12-01 ZSL             14.0  -11.478212           -8.0   \n",
       "2023-12-04 ZSL             14.0  -13.453685           -8.0   \n",
       "2023-12-05 ZSL              3.0   -0.342961           -2.5   \n",
       "2023-12-06 ZSL              4.0    0.813229           -3.0   \n",
       "\n",
       "                   close_minus_sec_best_intercept  sec_best_se     slope  \\\n",
       "datetime   ticker                                                          \n",
       "2018-12-06 AAAU                          0.001925     0.000032  0.007984   \n",
       "2018-12-07 AAAU                          0.009664     0.000033  0.005233   \n",
       "2018-12-10 AAAU                         -0.001076     0.000058  0.000966   \n",
       "2018-12-11 AAAU                         -0.001121     0.000245  0.000879   \n",
       "2018-12-12 AAAU                         -0.001220     0.000077  0.002160   \n",
       "...                                           ...          ...       ...   \n",
       "2023-11-30 ZSL                          -0.029655     0.011687 -0.008428   \n",
       "2023-12-01 ZSL                          -0.026747     0.011840 -0.006173   \n",
       "2023-12-04 ZSL                           0.067625     0.009835 -0.000732   \n",
       "2023-12-05 ZSL                           0.072953     0.003623  0.002134   \n",
       "2023-12-06 ZSL                           0.058732     0.006670  0.004318   \n",
       "\n",
       "                        std  \n",
       "datetime   ticker            \n",
       "2018-12-06 AAAU    0.018814  \n",
       "2018-12-07 AAAU    0.012483  \n",
       "2018-12-10 AAAU    0.015387  \n",
       "2018-12-11 AAAU    0.011897  \n",
       "2018-12-12 AAAU    0.009889  \n",
       "...                     ...  \n",
       "2023-11-30 ZSL     0.031025  \n",
       "2023-12-01 ZSL     0.030516  \n",
       "2023-12-04 ZSL     0.031168  \n",
       "2023-12-05 ZSL     0.030267  \n",
       "2023-12-06 ZSL     0.032027  \n",
       "\n",
       "[5124941 rows x 14 columns]"
      ]
     },
     "execution_count": 84,
     "metadata": {},
     "output_type": "execute_result"
    }
   ],
   "source": [
    "# Join features\n",
    "feature = pd.concat((changepoint,l1_nn),axis=1).dropna()\n",
    "feature"
   ]
  },
  {
   "cell_type": "markdown",
   "id": "3a60e826-176b-47dc-a7b6-08b608836147",
   "metadata": {},
   "source": [
    "# Load Target"
   ]
  },
  {
   "cell_type": "code",
   "execution_count": 15,
   "id": "2ee4c818-404e-4b9d-96f2-4d723a3fc180",
   "metadata": {},
   "outputs": [],
   "source": [
    "predict_days = 10\n",
    "bound_percent = 1.0\n",
    "\n",
    "target = pd.read_pickle(f'target/barrier/barrier {bound_percent:.1f}, {predict_days} days.pickle')"
   ]
  },
  {
   "cell_type": "markdown",
   "id": "e1c1557a-96ef-40ac-95d5-7bd9d8217122",
   "metadata": {},
   "source": [
    "# Segment Data"
   ]
  },
  {
   "cell_type": "code",
   "execution_count": 16,
   "id": "36592578-cf8d-4ea1-a041-169de6518083",
   "metadata": {},
   "outputs": [],
   "source": [
    "# Share index\n",
    "index = feature.index.intersection(target.index)\n",
    "feature = feature.loc[index]\n",
    "target = target.loc[index]"
   ]
  },
  {
   "cell_type": "code",
   "execution_count": 17,
   "id": "b06bd153-1219-49c7-b605-1fbe9c1d3220",
   "metadata": {},
   "outputs": [
    {
     "data": {
      "text/plain": [
       "(3280,\n",
       " 3983,\n",
       " Timestamp('2018-05-04 00:00:00'),\n",
       " Timestamp('2021-02-19 00:00:00'))"
      ]
     },
     "execution_count": 17,
     "metadata": {},
     "output_type": "execute_result"
    }
   ],
   "source": [
    "all_datetime = feature.index.get_level_values(0).unique().sort_values()\n",
    "\n",
    "train_end_idx = int(0.7*all_datetime.shape[0])\n",
    "train_end = all_datetime[train_end_idx]\n",
    "test_end_idx = int((0.7+0.15)*all_datetime.shape[0])\n",
    "test_end  = all_datetime[test_end_idx]\n",
    "train_end_idx, test_end_idx, train_end, test_end"
   ]
  },
  {
   "cell_type": "code",
   "execution_count": 20,
   "id": "991b3f99-95f7-44bb-8ff0-1065efaabc65",
   "metadata": {},
   "outputs": [],
   "source": [
    "X_train = feature[feature.index.get_level_values(0) < train_end].drop(columns=['best_mean', 'sec_best_mean'])\n",
    "Y_train = target[target.index.get_level_values(0) < train_end]\n",
    "\n",
    "X_test = feature[(train_end <= feature.index.get_level_values(0))\n",
    "                 & (feature.index.get_level_values(0) < test_end)].drop(columns=['best_mean', 'sec_best_mean'])\n",
    "Y_test = target[(train_end <= feature.index.get_level_values(0))\n",
    "                 & (feature.index.get_level_values(0) < test_end)]\n",
    "\n",
    "X_valid = feature[test_end <= feature.index.get_level_values(0)].drop(columns=['best_mean', 'sec_best_mean'])\n",
    "Y_valid = target[test_end <= target.index.get_level_values(0)]"
   ]
  },
  {
   "cell_type": "markdown",
   "id": "e3324cbd",
   "metadata": {},
   "source": [
    "# Parameter Search"
   ]
  },
  {
   "cell_type": "code",
   "execution_count": 38,
   "id": "17865988",
   "metadata": {},
   "outputs": [],
   "source": [
    "params = {'objective': 'multiclass','metric':'multi_logloss','num_classes':3,'verbosity':-1}\n",
    "dtrain = lgb.Dataset(X_train.values, label=(Y_train.values+1 != 0))\n",
    "dtest = lgb.Dataset(X_test.values, label=(Y_test.values+1 != 0))"
   ]
  },
  {
   "cell_type": "code",
   "execution_count": 39,
   "id": "bd84074f",
   "metadata": {
    "collapsed": true
   },
   "outputs": [
    {
     "name": "stderr",
     "output_type": "stream",
     "text": [
      "[I 2024-08-19 09:57:30,267] A new study created in memory with name: no-name-935010e3-7d52-496f-810c-d38949b1fdb9\n"
     ]
    },
    {
     "name": "stdout",
     "output_type": "stream",
     "text": [
      "[100]\ttrain's multi_logloss: 0.611416\ttest's multi_logloss: 0.587976\n"
     ]
    },
    {
     "name": "stderr",
     "output_type": "stream",
     "text": [
      "[I 2024-08-19 09:58:03,653] Trial 0 finished with value: 0.587172272124231 and parameters: {'feature_fraction': 0.8999999999999999}. Best is trial 0 with value: 0.587172272124231.\n"
     ]
    },
    {
     "name": "stdout",
     "output_type": "stream",
     "text": [
      "[100]\ttrain's multi_logloss: 0.611804\ttest's multi_logloss: 0.587747\n"
     ]
    },
    {
     "name": "stderr",
     "output_type": "stream",
     "text": [
      "[I 2024-08-19 09:58:37,123] Trial 1 finished with value: 0.5868001992647472 and parameters: {'feature_fraction': 0.6}. Best is trial 1 with value: 0.5868001992647472.\n"
     ]
    },
    {
     "name": "stdout",
     "output_type": "stream",
     "text": [
      "[100]\ttrain's multi_logloss: 0.611406\ttest's multi_logloss: 0.588048\n"
     ]
    },
    {
     "name": "stderr",
     "output_type": "stream",
     "text": [
      "[I 2024-08-19 09:59:09,489] Trial 2 finished with value: 0.5871192718789007 and parameters: {'feature_fraction': 0.8}. Best is trial 1 with value: 0.5868001992647472.\n"
     ]
    },
    {
     "name": "stdout",
     "output_type": "stream",
     "text": [
      "[100]\ttrain's multi_logloss: 0.612099\ttest's multi_logloss: 0.587617\n"
     ]
    },
    {
     "name": "stderr",
     "output_type": "stream",
     "text": [
      "[I 2024-08-19 09:59:42,590] Trial 3 finished with value: 0.5866237146305991 and parameters: {'feature_fraction': 0.4}. Best is trial 3 with value: 0.5866237146305991.\n"
     ]
    },
    {
     "name": "stdout",
     "output_type": "stream",
     "text": [
      "[100]\ttrain's multi_logloss: 0.611657\ttest's multi_logloss: 0.587784\n"
     ]
    },
    {
     "name": "stderr",
     "output_type": "stream",
     "text": [
      "[I 2024-08-19 10:00:15,085] Trial 4 finished with value: 0.5868632913610479 and parameters: {'feature_fraction': 0.7}. Best is trial 3 with value: 0.5866237146305991.\n"
     ]
    },
    {
     "name": "stdout",
     "output_type": "stream",
     "text": [
      "[100]\ttrain's multi_logloss: 0.612194\ttest's multi_logloss: 0.587714\n"
     ]
    },
    {
     "name": "stderr",
     "output_type": "stream",
     "text": [
      "[I 2024-08-19 10:00:51,260] Trial 5 finished with value: 0.5868504858749835 and parameters: {'feature_fraction': 0.5}. Best is trial 3 with value: 0.5866237146305991.\n"
     ]
    },
    {
     "name": "stdout",
     "output_type": "stream",
     "text": [
      "[100]\ttrain's multi_logloss: 0.611246\ttest's multi_logloss: 0.588229\n"
     ]
    },
    {
     "name": "stderr",
     "output_type": "stream",
     "text": [
      "[I 2024-08-19 10:01:23,156] Trial 6 finished with value: 0.5871800772117757 and parameters: {'feature_fraction': 1.0}. Best is trial 3 with value: 0.5866237146305991.\n"
     ]
    },
    {
     "name": "stdout",
     "output_type": "stream",
     "text": [
      "[100]\ttrain's multi_logloss: 0.617416\ttest's multi_logloss: 0.586772\n"
     ]
    },
    {
     "name": "stderr",
     "output_type": "stream",
     "text": [
      "[I 2024-08-19 10:01:50,997] Trial 7 finished with value: 0.58634156711552 and parameters: {'num_leaves': 3}. Best is trial 7 with value: 0.58634156711552.\n"
     ]
    },
    {
     "name": "stdout",
     "output_type": "stream",
     "text": [
      "[100]\ttrain's multi_logloss: 0.602573\ttest's multi_logloss: 0.589155\n"
     ]
    },
    {
     "name": "stderr",
     "output_type": "stream",
     "text": [
      "[I 2024-08-19 10:02:31,405] Trial 8 finished with value: 0.5873305840460793 and parameters: {'num_leaves': 167}. Best is trial 7 with value: 0.58634156711552.\n"
     ]
    },
    {
     "name": "stdout",
     "output_type": "stream",
     "text": [
      "[100]\ttrain's multi_logloss: 0.60203\ttest's multi_logloss: 0.589379\n"
     ]
    },
    {
     "name": "stderr",
     "output_type": "stream",
     "text": [
      "[I 2024-08-19 10:03:12,619] Trial 9 finished with value: 0.5873990680138406 and parameters: {'num_leaves': 176}. Best is trial 7 with value: 0.58634156711552.\n"
     ]
    },
    {
     "name": "stdout",
     "output_type": "stream",
     "text": [
      "[100]\ttrain's multi_logloss: 0.61503\ttest's multi_logloss: 0.587153\n"
     ]
    },
    {
     "name": "stderr",
     "output_type": "stream",
     "text": [
      "[I 2024-08-19 10:03:41,330] Trial 10 finished with value: 0.5864782738930523 and parameters: {'num_leaves': 11}. Best is trial 7 with value: 0.58634156711552.\n"
     ]
    },
    {
     "name": "stdout",
     "output_type": "stream",
     "text": [
      "[100]\ttrain's multi_logloss: 0.617416\ttest's multi_logloss: 0.586772\n"
     ]
    },
    {
     "name": "stderr",
     "output_type": "stream",
     "text": [
      "[I 2024-08-19 10:04:09,008] Trial 11 finished with value: 0.58634156711552 and parameters: {'num_leaves': 3}. Best is trial 7 with value: 0.58634156711552.\n"
     ]
    },
    {
     "name": "stdout",
     "output_type": "stream",
     "text": [
      "[100]\ttrain's multi_logloss: 0.618353\ttest's multi_logloss: 0.586729\n"
     ]
    },
    {
     "name": "stderr",
     "output_type": "stream",
     "text": [
      "[I 2024-08-19 10:04:43,705] Trial 12 finished with value: 0.5866360364838811 and parameters: {'num_leaves': 2}. Best is trial 7 with value: 0.58634156711552.\n"
     ]
    },
    {
     "name": "stdout",
     "output_type": "stream",
     "text": [
      "[100]\ttrain's multi_logloss: 0.608551\ttest's multi_logloss: 0.588249\n"
     ]
    },
    {
     "name": "stderr",
     "output_type": "stream",
     "text": [
      "[I 2024-08-19 10:05:20,445] Trial 13 finished with value: 0.5869366322942541 and parameters: {'num_leaves': 71}. Best is trial 7 with value: 0.58634156711552.\n"
     ]
    },
    {
     "name": "stdout",
     "output_type": "stream",
     "text": [
      "[100]\ttrain's multi_logloss: 0.607873\ttest's multi_logloss: 0.588383\n"
     ]
    },
    {
     "name": "stderr",
     "output_type": "stream",
     "text": [
      "[I 2024-08-19 10:05:57,592] Trial 14 finished with value: 0.5869841403013328 and parameters: {'num_leaves': 80}. Best is trial 7 with value: 0.58634156711552.\n"
     ]
    },
    {
     "name": "stdout",
     "output_type": "stream",
     "text": [
      "[100]\ttrain's multi_logloss: 0.609804\ttest's multi_logloss: 0.588035\n"
     ]
    },
    {
     "name": "stderr",
     "output_type": "stream",
     "text": [
      "[I 2024-08-19 10:06:32,372] Trial 15 finished with value: 0.5868377501973656 and parameters: {'num_leaves': 57}. Best is trial 7 with value: 0.58634156711552.\n"
     ]
    },
    {
     "name": "stdout",
     "output_type": "stream",
     "text": [
      "[100]\ttrain's multi_logloss: 0.598364\ttest's multi_logloss: 0.589758\n"
     ]
    },
    {
     "name": "stderr",
     "output_type": "stream",
     "text": [
      "[I 2024-08-19 10:07:17,354] Trial 16 finished with value: 0.5874919610797397 and parameters: {'num_leaves': 251}. Best is trial 7 with value: 0.58634156711552.\n"
     ]
    },
    {
     "name": "stdout",
     "output_type": "stream",
     "text": [
      "[100]\ttrain's multi_logloss: 0.61162\ttest's multi_logloss: 0.587759\n"
     ]
    },
    {
     "name": "stderr",
     "output_type": "stream",
     "text": [
      "[I 2024-08-19 10:07:49,844] Trial 17 finished with value: 0.5867137335566762 and parameters: {'num_leaves': 36}. Best is trial 7 with value: 0.58634156711552.\n"
     ]
    },
    {
     "name": "stdout",
     "output_type": "stream",
     "text": [
      "[100]\ttrain's multi_logloss: 0.606188\ttest's multi_logloss: 0.588704\n"
     ]
    },
    {
     "name": "stderr",
     "output_type": "stream",
     "text": [
      "[I 2024-08-19 10:08:28,213] Trial 18 finished with value: 0.5871491026053337 and parameters: {'num_leaves': 108}. Best is trial 7 with value: 0.58634156711552.\n"
     ]
    },
    {
     "name": "stdout",
     "output_type": "stream",
     "text": [
      "[100]\ttrain's multi_logloss: 0.612099\ttest's multi_logloss: 0.587617\n"
     ]
    },
    {
     "name": "stderr",
     "output_type": "stream",
     "text": [
      "[I 2024-08-19 10:09:00,965] Trial 19 finished with value: 0.5866237146305991 and parameters: {'num_leaves': 31}. Best is trial 7 with value: 0.58634156711552.\n"
     ]
    },
    {
     "name": "stdout",
     "output_type": "stream",
     "text": [
      "[100]\ttrain's multi_logloss: 0.605295\ttest's multi_logloss: 0.588829\n"
     ]
    },
    {
     "name": "stderr",
     "output_type": "stream",
     "text": [
      "[I 2024-08-19 10:09:39,792] Trial 20 finished with value: 0.5871341464327857 and parameters: {'num_leaves': 120}. Best is trial 7 with value: 0.58634156711552.\n"
     ]
    },
    {
     "name": "stdout",
     "output_type": "stream",
     "text": [
      "[100]\ttrain's multi_logloss: 0.616925\ttest's multi_logloss: 0.586893\n"
     ]
    },
    {
     "name": "stderr",
     "output_type": "stream",
     "text": [
      "[I 2024-08-19 10:10:06,191] Trial 21 finished with value: 0.5863173351617854 and parameters: {'num_leaves': 4}. Best is trial 21 with value: 0.5863173351617854.\n"
     ]
    },
    {
     "name": "stdout",
     "output_type": "stream",
     "text": [
      "[100]\ttrain's multi_logloss: 0.617416\ttest's multi_logloss: 0.586772\n"
     ]
    },
    {
     "name": "stderr",
     "output_type": "stream",
     "text": [
      "[I 2024-08-19 10:10:33,947] Trial 22 finished with value: 0.58634156711552 and parameters: {'num_leaves': 3}. Best is trial 21 with value: 0.5863173351617854.\n"
     ]
    },
    {
     "name": "stdout",
     "output_type": "stream",
     "text": [
      "[100]\ttrain's multi_logloss: 0.611057\ttest's multi_logloss: 0.587792\n"
     ]
    },
    {
     "name": "stderr",
     "output_type": "stream",
     "text": [
      "[I 2024-08-19 10:11:09,274] Trial 23 finished with value: 0.58679561673694 and parameters: {'num_leaves': 42}. Best is trial 21 with value: 0.5863173351617854.\n"
     ]
    },
    {
     "name": "stdout",
     "output_type": "stream",
     "text": [
      "[100]\ttrain's multi_logloss: 0.613099\ttest's multi_logloss: 0.587335\n"
     ]
    },
    {
     "name": "stderr",
     "output_type": "stream",
     "text": [
      "[I 2024-08-19 10:11:41,937] Trial 24 finished with value: 0.5865814700526357 and parameters: {'num_leaves': 23}. Best is trial 21 with value: 0.5863173351617854.\n"
     ]
    },
    {
     "name": "stdout",
     "output_type": "stream",
     "text": [
      "[100]\ttrain's multi_logloss: 0.608341\ttest's multi_logloss: 0.588273\n"
     ]
    },
    {
     "name": "stderr",
     "output_type": "stream",
     "text": [
      "[I 2024-08-19 10:12:23,838] Trial 25 finished with value: 0.5870182147483669 and parameters: {'num_leaves': 75}. Best is trial 21 with value: 0.5863173351617854.\n"
     ]
    },
    {
     "name": "stdout",
     "output_type": "stream",
     "text": [
      "[100]\ttrain's multi_logloss: 0.610538\ttest's multi_logloss: 0.58776\n"
     ]
    },
    {
     "name": "stderr",
     "output_type": "stream",
     "text": [
      "[I 2024-08-19 10:12:59,455] Trial 26 finished with value: 0.5868116888835934 and parameters: {'num_leaves': 47}. Best is trial 21 with value: 0.5863173351617854.\n"
     ]
    },
    {
     "name": "stdout",
     "output_type": "stream",
     "text": [
      "[100]\ttrain's multi_logloss: 0.616913\ttest's multi_logloss: 0.586836\n"
     ]
    },
    {
     "name": "stderr",
     "output_type": "stream",
     "text": [
      "[I 2024-08-19 10:13:27,710] Trial 27 finished with value: 0.5862411193535161 and parameters: {'bagging_fraction': 0.8870092642594228, 'bagging_freq': 6}. Best is trial 27 with value: 0.5862411193535161.\n"
     ]
    },
    {
     "name": "stdout",
     "output_type": "stream",
     "text": [
      "[100]\ttrain's multi_logloss: 0.616912\ttest's multi_logloss: 0.586908\n"
     ]
    },
    {
     "name": "stderr",
     "output_type": "stream",
     "text": [
      "[I 2024-08-19 10:13:55,837] Trial 28 finished with value: 0.5862487900418035 and parameters: {'bagging_fraction': 0.9007906028687381, 'bagging_freq': 6}. Best is trial 27 with value: 0.5862411193535161.\n"
     ]
    },
    {
     "name": "stdout",
     "output_type": "stream",
     "text": [
      "[100]\ttrain's multi_logloss: 0.616921\ttest's multi_logloss: 0.586779\n"
     ]
    },
    {
     "name": "stderr",
     "output_type": "stream",
     "text": [
      "[I 2024-08-19 10:14:24,154] Trial 29 finished with value: 0.5862333374077769 and parameters: {'bagging_fraction': 0.9195934193804269, 'bagging_freq': 6}. Best is trial 29 with value: 0.5862333374077769.\n"
     ]
    },
    {
     "name": "stdout",
     "output_type": "stream",
     "text": [
      "[100]\ttrain's multi_logloss: 0.616942\ttest's multi_logloss: 0.586894\n"
     ]
    },
    {
     "name": "stderr",
     "output_type": "stream",
     "text": [
      "[I 2024-08-19 10:14:52,970] Trial 30 finished with value: 0.5862818294477908 and parameters: {'bagging_fraction': 0.9312729091365869, 'bagging_freq': 6}. Best is trial 29 with value: 0.5862333374077769.\n"
     ]
    },
    {
     "name": "stdout",
     "output_type": "stream",
     "text": [
      "[100]\ttrain's multi_logloss: 0.616894\ttest's multi_logloss: 0.586908\n"
     ]
    },
    {
     "name": "stderr",
     "output_type": "stream",
     "text": [
      "[I 2024-08-19 10:15:21,143] Trial 31 finished with value: 0.5862677918144263 and parameters: {'bagging_fraction': 0.9212267903217375, 'bagging_freq': 6}. Best is trial 29 with value: 0.5862333374077769.\n"
     ]
    },
    {
     "name": "stdout",
     "output_type": "stream",
     "text": [
      "[100]\ttrain's multi_logloss: 0.616894\ttest's multi_logloss: 0.586854\n"
     ]
    },
    {
     "name": "stderr",
     "output_type": "stream",
     "text": [
      "[I 2024-08-19 10:15:49,636] Trial 32 finished with value: 0.586260785580434 and parameters: {'bagging_fraction': 0.9099432667470542, 'bagging_freq': 6}. Best is trial 29 with value: 0.5862333374077769.\n"
     ]
    },
    {
     "name": "stdout",
     "output_type": "stream",
     "text": [
      "[100]\ttrain's multi_logloss: 0.616892\ttest's multi_logloss: 0.586846\n"
     ]
    },
    {
     "name": "stderr",
     "output_type": "stream",
     "text": [
      "[I 2024-08-19 10:16:17,790] Trial 33 finished with value: 0.5862886743384091 and parameters: {'bagging_fraction': 0.8978804558321531, 'bagging_freq': 6}. Best is trial 29 with value: 0.5862333374077769.\n"
     ]
    },
    {
     "name": "stdout",
     "output_type": "stream",
     "text": [
      "[100]\ttrain's multi_logloss: 0.616903\ttest's multi_logloss: 0.586861\n"
     ]
    },
    {
     "name": "stderr",
     "output_type": "stream",
     "text": [
      "[I 2024-08-19 10:16:46,119] Trial 34 finished with value: 0.5862262524373427 and parameters: {'bagging_fraction': 0.8742244365004499, 'bagging_freq': 6}. Best is trial 34 with value: 0.5862262524373427.\n"
     ]
    },
    {
     "name": "stdout",
     "output_type": "stream",
     "text": [
      "[100]\ttrain's multi_logloss: 0.616904\ttest's multi_logloss: 0.586828\n"
     ]
    },
    {
     "name": "stderr",
     "output_type": "stream",
     "text": [
      "[I 2024-08-19 10:17:13,369] Trial 35 finished with value: 0.5862104028632947 and parameters: {'bagging_fraction': 0.756494069269185, 'bagging_freq': 5}. Best is trial 35 with value: 0.5862104028632947.\n"
     ]
    },
    {
     "name": "stdout",
     "output_type": "stream",
     "text": [
      "[100]\ttrain's multi_logloss: 0.616886\ttest's multi_logloss: 0.58684\n"
     ]
    },
    {
     "name": "stderr",
     "output_type": "stream",
     "text": [
      "[I 2024-08-19 10:17:40,658] Trial 36 finished with value: 0.586225340169113 and parameters: {'bagging_fraction': 0.6852921668871467, 'bagging_freq': 4}. Best is trial 35 with value: 0.5862104028632947.\n"
     ]
    },
    {
     "name": "stdout",
     "output_type": "stream",
     "text": [
      "[100]\ttrain's multi_logloss: 0.616904\ttest's multi_logloss: 0.586828\n"
     ]
    },
    {
     "name": "stderr",
     "output_type": "stream",
     "text": [
      "[I 2024-08-19 10:18:08,927] Trial 37 finished with value: 0.5862104028632947 and parameters: {'feature_fraction': 0.44800000000000006}. Best is trial 37 with value: 0.5862104028632947.\n"
     ]
    },
    {
     "name": "stdout",
     "output_type": "stream",
     "text": [
      "[100]\ttrain's multi_logloss: 0.616971\ttest's multi_logloss: 0.586815\n"
     ]
    },
    {
     "name": "stderr",
     "output_type": "stream",
     "text": [
      "[I 2024-08-19 10:18:42,275] Trial 38 finished with value: 0.5865107112491129 and parameters: {'feature_fraction': 0.48000000000000004}. Best is trial 37 with value: 0.5862104028632947.\n"
     ]
    },
    {
     "name": "stdout",
     "output_type": "stream",
     "text": [
      "[100]\ttrain's multi_logloss: 0.616904\ttest's multi_logloss: 0.586828\n"
     ]
    },
    {
     "name": "stderr",
     "output_type": "stream",
     "text": [
      "[I 2024-08-19 10:19:09,652] Trial 39 finished with value: 0.5862104028632947 and parameters: {'feature_fraction': 0.41600000000000004}. Best is trial 37 with value: 0.5862104028632947.\n"
     ]
    },
    {
     "name": "stdout",
     "output_type": "stream",
     "text": [
      "[100]\ttrain's multi_logloss: 0.616904\ttest's multi_logloss: 0.586828\n"
     ]
    },
    {
     "name": "stderr",
     "output_type": "stream",
     "text": [
      "[I 2024-08-19 10:19:39,675] Trial 40 finished with value: 0.5862104028975731 and parameters: {'lambda_l1': 8.604733699969573e-05, 'lambda_l2': 2.502962705134278e-06}. Best is trial 40 with value: 0.5862104028975731.\n"
     ]
    },
    {
     "name": "stdout",
     "output_type": "stream",
     "text": [
      "[100]\ttrain's multi_logloss: 0.616904\ttest's multi_logloss: 0.586828\n"
     ]
    },
    {
     "name": "stderr",
     "output_type": "stream",
     "text": [
      "[I 2024-08-19 10:20:08,959] Trial 41 finished with value: 0.5862104028944214 and parameters: {'lambda_l1': 7.786719595492483e-05, 'lambda_l2': 2.3798299616041024e-06}. Best is trial 41 with value: 0.5862104028944214.\n"
     ]
    },
    {
     "name": "stdout",
     "output_type": "stream",
     "text": [
      "[100]\ttrain's multi_logloss: 0.616904\ttest's multi_logloss: 0.586828\n"
     ]
    },
    {
     "name": "stderr",
     "output_type": "stream",
     "text": [
      "[I 2024-08-19 10:20:40,180] Trial 42 finished with value: 0.5862104029184776 and parameters: {'lambda_l1': 0.00015604770322015076, 'lambda_l2': 1.2521126694526095e-06}. Best is trial 41 with value: 0.5862104028944214.\n"
     ]
    },
    {
     "name": "stdout",
     "output_type": "stream",
     "text": [
      "[100]\ttrain's multi_logloss: 0.616904\ttest's multi_logloss: 0.586828\n"
     ]
    },
    {
     "name": "stderr",
     "output_type": "stream",
     "text": [
      "[I 2024-08-19 10:21:10,250] Trial 43 finished with value: 0.5862104028817641 and parameters: {'lambda_l1': 5.659364170025413e-05, 'lambda_l2': 3.0877870946249306e-06}. Best is trial 43 with value: 0.5862104028817641.\n"
     ]
    },
    {
     "name": "stdout",
     "output_type": "stream",
     "text": [
      "[100]\ttrain's multi_logloss: 0.616904\ttest's multi_logloss: 0.586828\n"
     ]
    },
    {
     "name": "stderr",
     "output_type": "stream",
     "text": [
      "[I 2024-08-19 10:21:41,097] Trial 44 finished with value: 0.586210403853761 and parameters: {'lambda_l1': 5.2479801378472635e-08, 'lambda_l2': 0.005027959576036261}. Best is trial 43 with value: 0.5862104028817641.\n"
     ]
    },
    {
     "name": "stdout",
     "output_type": "stream",
     "text": [
      "[100]\ttrain's multi_logloss: 0.616904\ttest's multi_logloss: 0.586828\n"
     ]
    },
    {
     "name": "stderr",
     "output_type": "stream",
     "text": [
      "[I 2024-08-19 10:22:09,813] Trial 45 finished with value: 0.5862104254544916 and parameters: {'lambda_l1': 0.060862581865799535, 'lambda_l2': 2.791028620624129e-08}. Best is trial 43 with value: 0.5862104028817641.\n"
     ]
    },
    {
     "name": "stdout",
     "output_type": "stream",
     "text": [
      "[100]\ttrain's multi_logloss: 0.616904\ttest's multi_logloss: 0.586828\n"
     ]
    },
    {
     "name": "stderr",
     "output_type": "stream",
     "text": [
      "[I 2024-08-19 10:22:44,420] Trial 46 finished with value: 0.5862104028738645 and parameters: {'lambda_l1': 1.9003996655800073e-06, 'lambda_l2': 5.154108493053362e-05}. Best is trial 46 with value: 0.5862104028738645.\n"
     ]
    },
    {
     "name": "stdout",
     "output_type": "stream",
     "text": [
      "[100]\ttrain's multi_logloss: 0.616935\ttest's multi_logloss: 0.586816\n"
     ]
    },
    {
     "name": "stderr",
     "output_type": "stream",
     "text": [
      "[I 2024-08-19 10:23:15,235] Trial 47 finished with value: 0.5862522489029031 and parameters: {'lambda_l1': 1.9140192560868328e-07, 'lambda_l2': 1.1751284323423994}. Best is trial 46 with value: 0.5862104028738645.\n"
     ]
    },
    {
     "name": "stdout",
     "output_type": "stream",
     "text": [
      "[100]\ttrain's multi_logloss: 0.616904\ttest's multi_logloss: 0.586828\n"
     ]
    },
    {
     "name": "stderr",
     "output_type": "stream",
     "text": [
      "[I 2024-08-19 10:23:42,404] Trial 48 finished with value: 0.5862104029626096 and parameters: {'lambda_l1': 2.374538860593191e-06, 'lambda_l2': 0.000479029847768345}. Best is trial 46 with value: 0.5862104028738645.\n"
     ]
    },
    {
     "name": "stdout",
     "output_type": "stream",
     "text": [
      "[100]\ttrain's multi_logloss: 0.616904\ttest's multi_logloss: 0.586828\n"
     ]
    },
    {
     "name": "stderr",
     "output_type": "stream",
     "text": [
      "[I 2024-08-19 10:24:10,003] Trial 49 finished with value: 0.5862104207406015 and parameters: {'lambda_l1': 0.048112602252216786, 'lambda_l2': 2.874088395698967e-05}. Best is trial 46 with value: 0.5862104028738645.\n"
     ]
    },
    {
     "name": "stdout",
     "output_type": "stream",
     "text": [
      "[100]\ttrain's multi_logloss: 0.616904\ttest's multi_logloss: 0.586828\n"
     ]
    },
    {
     "name": "stderr",
     "output_type": "stream",
     "text": [
      "[I 2024-08-19 10:24:37,370] Trial 50 finished with value: 0.5862104049891876 and parameters: {'lambda_l1': 2.4417122700319307e-06, 'lambda_l2': 0.010771691187133326}. Best is trial 46 with value: 0.5862104028738645.\n"
     ]
    },
    {
     "name": "stdout",
     "output_type": "stream",
     "text": [
      "[100]\ttrain's multi_logloss: 0.616904\ttest's multi_logloss: 0.586828\n"
     ]
    },
    {
     "name": "stderr",
     "output_type": "stream",
     "text": [
      "[I 2024-08-19 10:25:04,459] Trial 51 finished with value: 0.586210403137938 and parameters: {'lambda_l1': 0.0008014791886412747, 'lambda_l2': 5.028657875479871e-07}. Best is trial 46 with value: 0.5862104028738645.\n"
     ]
    },
    {
     "name": "stdout",
     "output_type": "stream",
     "text": [
      "[100]\ttrain's multi_logloss: 0.616904\ttest's multi_logloss: 0.586828\n"
     ]
    },
    {
     "name": "stderr",
     "output_type": "stream",
     "text": [
      "[I 2024-08-19 10:25:31,681] Trial 52 finished with value: 0.586210402878376 and parameters: {'lambda_l1': 1.7007068562578376e-05, 'lambda_l2': 4.601658642251417e-05}. Best is trial 46 with value: 0.5862104028738645.\n"
     ]
    },
    {
     "name": "stdout",
     "output_type": "stream",
     "text": [
      "[100]\ttrain's multi_logloss: 0.616904\ttest's multi_logloss: 0.586828\n"
     ]
    },
    {
     "name": "stderr",
     "output_type": "stream",
     "text": [
      "[I 2024-08-19 10:25:59,074] Trial 53 finished with value: 0.5862104028854178 and parameters: {'lambda_l1': 4.953878501023743e-06, 'lambda_l2': 0.0001121874262738545}. Best is trial 46 with value: 0.5862104028738645.\n"
     ]
    },
    {
     "name": "stdout",
     "output_type": "stream",
     "text": [
      "[100]\ttrain's multi_logloss: 0.616904\ttest's multi_logloss: 0.586828\n"
     ]
    },
    {
     "name": "stderr",
     "output_type": "stream",
     "text": [
      "[I 2024-08-19 10:26:28,374] Trial 54 finished with value: 0.586210404161428 and parameters: {'lambda_l1': 0.0034162936374152013, 'lambda_l2': 5.3299451314215064e-05}. Best is trial 46 with value: 0.5862104028738645.\n"
     ]
    },
    {
     "name": "stdout",
     "output_type": "stream",
     "text": [
      "[100]\ttrain's multi_logloss: 0.616904\ttest's multi_logloss: 0.586828\n"
     ]
    },
    {
     "name": "stderr",
     "output_type": "stream",
     "text": [
      "[I 2024-08-19 10:26:57,478] Trial 55 finished with value: 0.5862104033990855 and parameters: {'lambda_l1': 7.474617181445878e-06, 'lambda_l2': 0.0026648777546510196}. Best is trial 46 with value: 0.5862104028738645.\n"
     ]
    },
    {
     "name": "stdout",
     "output_type": "stream",
     "text": [
      "[100]\ttrain's multi_logloss: 0.616904\ttest's multi_logloss: 0.586828\n"
     ]
    },
    {
     "name": "stderr",
     "output_type": "stream",
     "text": [
      "[I 2024-08-19 10:27:24,785] Trial 56 finished with value: 0.5862104028633215 and parameters: {'lambda_l1': 1.2511619212942744e-08, 'lambda_l2': 5.146808565516531e-08}. Best is trial 56 with value: 0.5862104028633215.\n"
     ]
    },
    {
     "name": "stdout",
     "output_type": "stream",
     "text": [
      "[100]\ttrain's multi_logloss: 0.616939\ttest's multi_logloss: 0.586801\n"
     ]
    },
    {
     "name": "stderr",
     "output_type": "stream",
     "text": [
      "[I 2024-08-19 10:27:51,817] Trial 57 finished with value: 0.5862438365762002 and parameters: {'lambda_l1': 9.968175213512424, 'lambda_l2': 1.0157180641715902e-07}. Best is trial 56 with value: 0.5862104028633215.\n"
     ]
    },
    {
     "name": "stdout",
     "output_type": "stream",
     "text": [
      "[100]\ttrain's multi_logloss: 0.616896\ttest's multi_logloss: 0.586845\n"
     ]
    },
    {
     "name": "stderr",
     "output_type": "stream",
     "text": [
      "[I 2024-08-19 10:28:19,028] Trial 58 finished with value: 0.5862129975322299 and parameters: {'lambda_l1': 1.097880445816661e-08, 'lambda_l2': 2.0227199439726955}. Best is trial 56 with value: 0.5862104028633215.\n"
     ]
    },
    {
     "name": "stdout",
     "output_type": "stream",
     "text": [
      "[100]\ttrain's multi_logloss: 0.616904\ttest's multi_logloss: 0.58683\n"
     ]
    },
    {
     "name": "stderr",
     "output_type": "stream",
     "text": [
      "[I 2024-08-19 10:28:46,374] Trial 59 finished with value: 0.5862104272925702 and parameters: {'lambda_l1': 3.8651517387721555e-07, 'lambda_l2': 0.12317734291250801}. Best is trial 56 with value: 0.5862104028633215.\n"
     ]
    },
    {
     "name": "stdout",
     "output_type": "stream",
     "text": [
      "[100]\ttrain's multi_logloss: 0.616904\ttest's multi_logloss: 0.586828\n"
     ]
    },
    {
     "name": "stderr",
     "output_type": "stream",
     "text": [
      "[I 2024-08-19 10:29:13,727] Trial 60 finished with value: 0.5862104028632947 and parameters: {'min_child_samples': 10}. Best is trial 60 with value: 0.5862104028632947.\n"
     ]
    },
    {
     "name": "stdout",
     "output_type": "stream",
     "text": [
      "[100]\ttrain's multi_logloss: 0.6169\ttest's multi_logloss: 0.586828\n"
     ]
    },
    {
     "name": "stderr",
     "output_type": "stream",
     "text": [
      "[I 2024-08-19 10:29:40,707] Trial 61 finished with value: 0.5862104028632947 and parameters: {'min_child_samples': 25}. Best is trial 60 with value: 0.5862104028632947.\n"
     ]
    },
    {
     "name": "stdout",
     "output_type": "stream",
     "text": [
      "[100]\ttrain's multi_logloss: 0.616905\ttest's multi_logloss: 0.586815\n"
     ]
    },
    {
     "name": "stderr",
     "output_type": "stream",
     "text": [
      "[I 2024-08-19 10:30:08,094] Trial 62 finished with value: 0.5862104028632947 and parameters: {'min_child_samples': 50}. Best is trial 60 with value: 0.5862104028632947.\n"
     ]
    },
    {
     "name": "stdout",
     "output_type": "stream",
     "text": [
      "[100]\ttrain's multi_logloss: 0.616887\ttest's multi_logloss: 0.586826\n"
     ]
    },
    {
     "name": "stderr",
     "output_type": "stream",
     "text": [
      "[I 2024-08-19 10:30:35,475] Trial 63 finished with value: 0.5862104028632947 and parameters: {'min_child_samples': 100}. Best is trial 60 with value: 0.5862104028632947.\n"
     ]
    },
    {
     "name": "stdout",
     "output_type": "stream",
     "text": [
      "[100]\ttrain's multi_logloss: 0.616904\ttest's multi_logloss: 0.586828\n"
     ]
    },
    {
     "name": "stderr",
     "output_type": "stream",
     "text": [
      "[I 2024-08-19 10:31:02,723] Trial 64 finished with value: 0.5862104028632947 and parameters: {'min_child_samples': 5}. Best is trial 60 with value: 0.5862104028632947.\n"
     ]
    }
   ],
   "source": [
    "study = optuna.create_study()\n",
    "booster = lgb_opt.train(params, dtrain, valid_sets=[dtrain, dtest],valid_names=['train','test'],\n",
    "                    study = study,\n",
    "                    show_progress_bar=False,\n",
    "                    callbacks=[lgb.early_stopping(100,verbose=False), lgb.log_evaluation(100)])"
   ]
  },
  {
   "cell_type": "code",
   "execution_count": 40,
   "id": "9d761949",
   "metadata": {},
   "outputs": [
    {
     "data": {
      "text/plain": [
       "{'objective': 'multiclass',\n",
       " 'metric': 'multi_logloss',\n",
       " 'num_classes': 3,\n",
       " 'verbosity': -1,\n",
       " 'feature_pre_filter': False,\n",
       " 'lambda_l1': 0.0,\n",
       " 'lambda_l2': 0.0,\n",
       " 'num_leaves': 4,\n",
       " 'feature_fraction': 0.4,\n",
       " 'bagging_fraction': 0.756494069269185,\n",
       " 'bagging_freq': 5,\n",
       " 'min_child_samples': 20,\n",
       " 'num_iterations': 1000}"
      ]
     },
     "execution_count": 40,
     "metadata": {},
     "output_type": "execute_result"
    }
   ],
   "source": [
    "booster.params"
   ]
  },
  {
   "cell_type": "markdown",
   "id": "275bbecf",
   "metadata": {},
   "source": [
    "# Train"
   ]
  },
  {
   "cell_type": "code",
   "execution_count": 87,
   "id": "4b928623",
   "metadata": {},
   "outputs": [
    {
     "data": {
      "text/html": [
       "<div>\n",
       "<style scoped>\n",
       "    .dataframe tbody tr th:only-of-type {\n",
       "        vertical-align: middle;\n",
       "    }\n",
       "\n",
       "    .dataframe tbody tr th {\n",
       "        vertical-align: top;\n",
       "    }\n",
       "\n",
       "    .dataframe thead th {\n",
       "        text-align: right;\n",
       "    }\n",
       "</style>\n",
       "<table border=\"1\" class=\"dataframe\">\n",
       "  <thead>\n",
       "    <tr style=\"text-align: right;\">\n",
       "      <th></th>\n",
       "      <th></th>\n",
       "      <th>best_slope</th>\n",
       "      <th>best_idx</th>\n",
       "      <th>best_t</th>\n",
       "      <th>close_minus_best_intercept</th>\n",
       "      <th>best_se</th>\n",
       "      <th>sec_best_slope</th>\n",
       "      <th>sec_best_idx</th>\n",
       "      <th>sec_best_t</th>\n",
       "      <th>close_minus_sec_best_intercept</th>\n",
       "      <th>sec_best_se</th>\n",
       "      <th>slope</th>\n",
       "      <th>std</th>\n",
       "    </tr>\n",
       "    <tr>\n",
       "      <th>datetime</th>\n",
       "      <th>ticker</th>\n",
       "      <th></th>\n",
       "      <th></th>\n",
       "      <th></th>\n",
       "      <th></th>\n",
       "      <th></th>\n",
       "      <th></th>\n",
       "      <th></th>\n",
       "      <th></th>\n",
       "      <th></th>\n",
       "      <th></th>\n",
       "      <th></th>\n",
       "      <th></th>\n",
       "    </tr>\n",
       "  </thead>\n",
       "  <tbody>\n",
       "    <tr>\n",
       "      <th>2005-04-25</th>\n",
       "      <th>AAA</th>\n",
       "      <td>-0.004135</td>\n",
       "      <td>5.0</td>\n",
       "      <td>-1.883538</td>\n",
       "      <td>-0.010657</td>\n",
       "      <td>0.001214</td>\n",
       "      <td>-0.002229</td>\n",
       "      <td>6.0</td>\n",
       "      <td>-1.100676</td>\n",
       "      <td>-0.015104</td>\n",
       "      <td>0.001723</td>\n",
       "      <td>-0.001199</td>\n",
       "      <td>0.014470</td>\n",
       "    </tr>\n",
       "    <tr>\n",
       "      <th>2005-04-26</th>\n",
       "      <th>AAA</th>\n",
       "      <td>-0.004570</td>\n",
       "      <td>6.0</td>\n",
       "      <td>-2.658531</td>\n",
       "      <td>-0.006351</td>\n",
       "      <td>0.001241</td>\n",
       "      <td>-0.002932</td>\n",
       "      <td>7.0</td>\n",
       "      <td>-1.759851</td>\n",
       "      <td>-0.010720</td>\n",
       "      <td>0.001831</td>\n",
       "      <td>-0.001982</td>\n",
       "      <td>0.012596</td>\n",
       "    </tr>\n",
       "    <tr>\n",
       "      <th>2005-04-27</th>\n",
       "      <th>AAA</th>\n",
       "      <td>-0.004667</td>\n",
       "      <td>7.0</td>\n",
       "      <td>-3.400658</td>\n",
       "      <td>0.003414</td>\n",
       "      <td>0.001243</td>\n",
       "      <td>-0.003286</td>\n",
       "      <td>8.0</td>\n",
       "      <td>-2.388827</td>\n",
       "      <td>-0.000730</td>\n",
       "      <td>0.001873</td>\n",
       "      <td>-0.000691</td>\n",
       "      <td>0.013099</td>\n",
       "    </tr>\n",
       "    <tr>\n",
       "      <th>2005-04-28</th>\n",
       "      <th>AAA</th>\n",
       "      <td>-0.004300</td>\n",
       "      <td>8.0</td>\n",
       "      <td>-3.770199</td>\n",
       "      <td>-0.048473</td>\n",
       "      <td>0.001288</td>\n",
       "      <td>-0.003187</td>\n",
       "      <td>9.0</td>\n",
       "      <td>-2.781708</td>\n",
       "      <td>-0.052181</td>\n",
       "      <td>0.001877</td>\n",
       "      <td>-0.005440</td>\n",
       "      <td>0.018352</td>\n",
       "    </tr>\n",
       "    <tr>\n",
       "      <th>2005-04-29</th>\n",
       "      <th>AAA</th>\n",
       "      <td>-0.005999</td>\n",
       "      <td>9.0</td>\n",
       "      <td>-4.395350</td>\n",
       "      <td>-0.023940</td>\n",
       "      <td>0.002663</td>\n",
       "      <td>-0.010933</td>\n",
       "      <td>2.0</td>\n",
       "      <td>-1.846615</td>\n",
       "      <td>-0.013103</td>\n",
       "      <td>0.001052</td>\n",
       "      <td>-0.005142</td>\n",
       "      <td>0.018218</td>\n",
       "    </tr>\n",
       "    <tr>\n",
       "      <th>...</th>\n",
       "      <th>...</th>\n",
       "      <td>...</td>\n",
       "      <td>...</td>\n",
       "      <td>...</td>\n",
       "      <td>...</td>\n",
       "      <td>...</td>\n",
       "      <td>...</td>\n",
       "      <td>...</td>\n",
       "      <td>...</td>\n",
       "      <td>...</td>\n",
       "      <td>...</td>\n",
       "      <td>...</td>\n",
       "      <td>...</td>\n",
       "    </tr>\n",
       "    <tr>\n",
       "      <th>2018-04-27</th>\n",
       "      <th>ZSL</th>\n",
       "      <td>0.005149</td>\n",
       "      <td>6.0</td>\n",
       "      <td>1.238840</td>\n",
       "      <td>0.014383</td>\n",
       "      <td>0.007255</td>\n",
       "      <td>0.009459</td>\n",
       "      <td>5.0</td>\n",
       "      <td>2.201179</td>\n",
       "      <td>0.004325</td>\n",
       "      <td>0.004654</td>\n",
       "      <td>0.001741</td>\n",
       "      <td>0.019077</td>\n",
       "    </tr>\n",
       "    <tr>\n",
       "      <th>2018-04-30</th>\n",
       "      <th>ZSL</th>\n",
       "      <td>0.005652</td>\n",
       "      <td>7.0</td>\n",
       "      <td>1.698365</td>\n",
       "      <td>0.028029</td>\n",
       "      <td>0.007311</td>\n",
       "      <td>0.009117</td>\n",
       "      <td>6.0</td>\n",
       "      <td>2.734074</td>\n",
       "      <td>0.018791</td>\n",
       "      <td>0.004670</td>\n",
       "      <td>0.003740</td>\n",
       "      <td>0.021311</td>\n",
       "    </tr>\n",
       "    <tr>\n",
       "      <th>2018-05-01</th>\n",
       "      <th>ZSL</th>\n",
       "      <td>0.006670</td>\n",
       "      <td>8.0</td>\n",
       "      <td>2.398991</td>\n",
       "      <td>0.036187</td>\n",
       "      <td>0.007652</td>\n",
       "      <td>0.009645</td>\n",
       "      <td>7.0</td>\n",
       "      <td>3.602170</td>\n",
       "      <td>0.027262</td>\n",
       "      <td>0.004731</td>\n",
       "      <td>0.005967</td>\n",
       "      <td>0.019500</td>\n",
       "    </tr>\n",
       "    <tr>\n",
       "      <th>2018-05-02</th>\n",
       "      <th>ZSL</th>\n",
       "      <td>0.007805</td>\n",
       "      <td>9.0</td>\n",
       "      <td>3.246204</td>\n",
       "      <td>-0.004295</td>\n",
       "      <td>0.008266</td>\n",
       "      <td>0.010445</td>\n",
       "      <td>8.0</td>\n",
       "      <td>4.674646</td>\n",
       "      <td>-0.013097</td>\n",
       "      <td>0.004943</td>\n",
       "      <td>0.002526</td>\n",
       "      <td>0.020548</td>\n",
       "    </tr>\n",
       "    <tr>\n",
       "      <th>2018-05-03</th>\n",
       "      <th>ZSL</th>\n",
       "      <td>0.007406</td>\n",
       "      <td>10.0</td>\n",
       "      <td>3.621464</td>\n",
       "      <td>-0.020208</td>\n",
       "      <td>0.008372</td>\n",
       "      <td>0.007435</td>\n",
       "      <td>1.0</td>\n",
       "      <td>0.918215</td>\n",
       "      <td>-0.025455</td>\n",
       "      <td>0.000656</td>\n",
       "      <td>0.001038</td>\n",
       "      <td>0.022976</td>\n",
       "    </tr>\n",
       "  </tbody>\n",
       "</table>\n",
       "<p>2390563 rows × 12 columns</p>\n",
       "</div>"
      ],
      "text/plain": [
       "                   best_slope  best_idx    best_t  close_minus_best_intercept  \\\n",
       "datetime   ticker                                                               \n",
       "2005-04-25 AAA      -0.004135       5.0 -1.883538                   -0.010657   \n",
       "2005-04-26 AAA      -0.004570       6.0 -2.658531                   -0.006351   \n",
       "2005-04-27 AAA      -0.004667       7.0 -3.400658                    0.003414   \n",
       "2005-04-28 AAA      -0.004300       8.0 -3.770199                   -0.048473   \n",
       "2005-04-29 AAA      -0.005999       9.0 -4.395350                   -0.023940   \n",
       "...                       ...       ...       ...                         ...   \n",
       "2018-04-27 ZSL       0.005149       6.0  1.238840                    0.014383   \n",
       "2018-04-30 ZSL       0.005652       7.0  1.698365                    0.028029   \n",
       "2018-05-01 ZSL       0.006670       8.0  2.398991                    0.036187   \n",
       "2018-05-02 ZSL       0.007805       9.0  3.246204                   -0.004295   \n",
       "2018-05-03 ZSL       0.007406      10.0  3.621464                   -0.020208   \n",
       "\n",
       "                    best_se  sec_best_slope  sec_best_idx  sec_best_t  \\\n",
       "datetime   ticker                                                       \n",
       "2005-04-25 AAA     0.001214       -0.002229           6.0   -1.100676   \n",
       "2005-04-26 AAA     0.001241       -0.002932           7.0   -1.759851   \n",
       "2005-04-27 AAA     0.001243       -0.003286           8.0   -2.388827   \n",
       "2005-04-28 AAA     0.001288       -0.003187           9.0   -2.781708   \n",
       "2005-04-29 AAA     0.002663       -0.010933           2.0   -1.846615   \n",
       "...                     ...             ...           ...         ...   \n",
       "2018-04-27 ZSL     0.007255        0.009459           5.0    2.201179   \n",
       "2018-04-30 ZSL     0.007311        0.009117           6.0    2.734074   \n",
       "2018-05-01 ZSL     0.007652        0.009645           7.0    3.602170   \n",
       "2018-05-02 ZSL     0.008266        0.010445           8.0    4.674646   \n",
       "2018-05-03 ZSL     0.008372        0.007435           1.0    0.918215   \n",
       "\n",
       "                   close_minus_sec_best_intercept  sec_best_se     slope  \\\n",
       "datetime   ticker                                                          \n",
       "2005-04-25 AAA                          -0.015104     0.001723 -0.001199   \n",
       "2005-04-26 AAA                          -0.010720     0.001831 -0.001982   \n",
       "2005-04-27 AAA                          -0.000730     0.001873 -0.000691   \n",
       "2005-04-28 AAA                          -0.052181     0.001877 -0.005440   \n",
       "2005-04-29 AAA                          -0.013103     0.001052 -0.005142   \n",
       "...                                           ...          ...       ...   \n",
       "2018-04-27 ZSL                           0.004325     0.004654  0.001741   \n",
       "2018-04-30 ZSL                           0.018791     0.004670  0.003740   \n",
       "2018-05-01 ZSL                           0.027262     0.004731  0.005967   \n",
       "2018-05-02 ZSL                          -0.013097     0.004943  0.002526   \n",
       "2018-05-03 ZSL                          -0.025455     0.000656  0.001038   \n",
       "\n",
       "                        std  \n",
       "datetime   ticker            \n",
       "2005-04-25 AAA     0.014470  \n",
       "2005-04-26 AAA     0.012596  \n",
       "2005-04-27 AAA     0.013099  \n",
       "2005-04-28 AAA     0.018352  \n",
       "2005-04-29 AAA     0.018218  \n",
       "...                     ...  \n",
       "2018-04-27 ZSL     0.019077  \n",
       "2018-04-30 ZSL     0.021311  \n",
       "2018-05-01 ZSL     0.019500  \n",
       "2018-05-02 ZSL     0.020548  \n",
       "2018-05-03 ZSL     0.022976  \n",
       "\n",
       "[2390563 rows x 12 columns]"
      ]
     },
     "execution_count": 87,
     "metadata": {},
     "output_type": "execute_result"
    }
   ],
   "source": [
    "X_train"
   ]
  },
  {
   "cell_type": "code",
   "execution_count": 42,
   "id": "d05784d7",
   "metadata": {},
   "outputs": [
    {
     "name": "stdout",
     "output_type": "stream",
     "text": [
      "[LightGBM] [Warning] bagging_freq is set=5, subsample_freq=0 will be ignored. Current value: bagging_freq=5\n",
      "[LightGBM] [Warning] feature_fraction is set=0.4, colsample_bytree=1.0 will be ignored. Current value: feature_fraction=0.4\n",
      "[LightGBM] [Warning] bagging_freq is set=5, subsample_freq=0 will be ignored. Current value: bagging_freq=5\n",
      "[LightGBM] [Warning] feature_fraction is set=0.4, colsample_bytree=1.0 will be ignored. Current value: feature_fraction=0.4\n",
      "[LightGBM] [Info] Number of positive: 1783930, number of negative: 606633\n",
      "[LightGBM] [Info] Auto-choosing row-wise multi-threading, the overhead of testing was 0.008243 seconds.\n",
      "You can set `force_row_wise=true` to remove the overhead.\n",
      "And if memory is not enough, you can set `force_col_wise=true`.\n",
      "[LightGBM] [Info] Total Bins 2693\n",
      "[LightGBM] [Info] Number of data points in the train set: 2390563, number of used features: 12\n",
      "[LightGBM] [Warning] bagging_freq is set=5, subsample_freq=0 will be ignored. Current value: bagging_freq=5\n",
      "[LightGBM] [Warning] feature_fraction is set=0.4, colsample_bytree=1.0 will be ignored. Current value: feature_fraction=0.4\n",
      "[LightGBM] [Info] [binary:BoostFromScore]: pavg=0.746238 -> initscore=1.078650\n",
      "[LightGBM] [Info] Start training from score 1.078650\n"
     ]
    },
    {
     "data": {
      "text/plain": [
       "<AxesSubplot: title={'center': 'Feature importance'}, xlabel='Feature importance', ylabel='Features'>"
      ]
     },
     "execution_count": 42,
     "metadata": {},
     "output_type": "execute_result"
    },
    {
     "data": {
      "image/png": "[encoded data removed]",
      "text/plain": [
       "<Figure size 1600x600 with 1 Axes>"
      ]
     },
     "metadata": {},
     "output_type": "display_data"
    }
   ],
   "source": [
    "blf = lgb.LGBMClassifier(num_leaves = 4, n_estimators = 1000,\n",
    "                        reg_alpha=0.0,reg_lambda=0.0,\n",
    "                         feature_fraction=0.4,bagging_freq=5,min_child_samples=20)\n",
    "\n",
    "# In: False, Out: True\n",
    "blf.fit(X_train, Y_train != 0, eval_set=[(X_test.values, Y_test.values != 0)],\n",
    "        callbacks=[lgb.early_stopping(100,verbose=False)])\n",
    "\n",
    "fig, ax = plt.subplots(1,figsize=(16,6))\n",
    "lgb.plot_importance(blf,ax=ax)"
   ]
  },
  {
   "cell_type": "code",
   "execution_count": 60,
   "id": "5b4133ad",
   "metadata": {},
   "outputs": [
    {
     "name": "stdout",
     "output_type": "stream",
     "text": [
      "[LightGBM] [Warning] bagging_freq is set=5, subsample_freq=0 will be ignored. Current value: bagging_freq=5\n",
      "[LightGBM] [Warning] feature_fraction is set=0.4, colsample_bytree=1.0 will be ignored. Current value: feature_fraction=0.4\n"
     ]
    },
    {
     "data": {
      "text/plain": [
       "<sklearn.metrics._plot.confusion_matrix.ConfusionMatrixDisplay at 0x40d8aa6e0>"
      ]
     },
     "execution_count": 60,
     "metadata": {},
     "output_type": "execute_result"
    },
    {
     "data": {
      "image/png": "[encoded data removed]",
      "text/plain": [
       "<Figure size 1200x500 with 3 Axes>"
      ]
     },
     "metadata": {},
     "output_type": "display_data"
    }
   ],
   "source": [
    "test_pred=blf.predict(X_test)\n",
    "\n",
    "fig, ax = plt.subplots(1,2,figsize=(12,5))\n",
    "(Y_test != 0).astype('i').hist(ax=ax[0],weights=np.ones_like(Y_test)/len(Y_test))\n",
    "\n",
    "cm = metrics.confusion_matrix(Y_test != 0, test_pred,normalize='pred')\n",
    "disp = metrics.ConfusionMatrixDisplay(confusion_matrix=cm,\n",
    "                              display_labels=blf.classes_)\n",
    "\n",
    "disp.plot(ax=ax[1],cmap='YlGnBu')"
   ]
  },
  {
   "cell_type": "code",
   "execution_count": 48,
   "id": "dc40bf4a",
   "metadata": {
    "collapsed": true
   },
   "outputs": [
    {
     "name": "stdout",
     "output_type": "stream",
     "text": [
      "[LightGBM] [Warning] bagging_freq is set=5, subsample_freq=0 will be ignored. Current value: bagging_freq=5\n",
      "[LightGBM] [Warning] feature_fraction is set=0.4, colsample_bytree=1.0 will be ignored. Current value: feature_fraction=0.4\n",
      "[LightGBM] [Warning] bagging_freq is set=5, subsample_freq=0 will be ignored. Current value: bagging_freq=5\n",
      "[LightGBM] [Warning] feature_fraction is set=0.4, colsample_bytree=1.0 will be ignored. Current value: feature_fraction=0.4\n",
      "[LightGBM] [Warning] bagging_freq is set=5, subsample_freq=0 will be ignored. Current value: bagging_freq=5\n",
      "[LightGBM] [Warning] feature_fraction is set=0.4, colsample_bytree=1.0 will be ignored. Current value: feature_fraction=0.4\n"
     ]
    },
    {
     "data": {
      "text/plain": [
       "\"\\nfig, ax = plt.subplots(3,3,figsize=(12,6))\\nfor i,j in itertools.product(range(3),range(3)):\\n    train_proba = y_train_proba[(y_train == i-1) & (train_pred == j-1),j]\\n    test_proba = y_test_proba[(y_test == i-1) & (test_pred == j-1),j]\\n    ax[i,j].hist(train_proba,25,weights=np.ones_like(train_proba)/len(train_proba),\\n                 alpha=0.5,label='train')\\n    ax[i,j].hist(test_proba,25,weights=np.ones_like(test_proba)/len(test_proba),\\n                 alpha=0.5,label='test')\\n    ax[i,j].set_xlim(0,1)\\n    ax[i,j].set_ylim(0,0.3)\\n    ax[i,j].grid()\\n    ax[i,j].legend()\\n\\nfig, ax = plt.subplots(2,3,figsize=(12,6))\\nfor j in range(3):\\n    for i in range(3):\\n        train_proba = y_train_proba[(y_train == i-1) & (train_pred == j-1),j]\\n        ax[0,j].hist(train_proba,25,weights=np.ones_like(train_proba)/len(train_proba),\\n                   alpha=0.5,label=str(i-1))\\n        test_proba = y_test_proba[(y_test == i-1) & (test_pred == j-1),j]\\n        ax[1,j].hist(test_proba,25,weights=np.ones_like(test_proba)/len(test_proba),\\n                   alpha=0.5,label=str(i-1))\\n    ax[0,j].legend()\\n    ax[0,j].set_xlim(0,1)\\n    ax[0,j].set_ylim(0,0.25)\\n    ax[0,j].grid()\\n    ax[0,0].set_ylabel('train')\\n\\n    ax[1,j].legend()\\n    ax[1,j].set_xlim(0,1)\\n    ax[1,j].set_ylim(0,0.25)\\n    ax[1,j].grid()\\n    ax[1,0].set_ylabel('test')\\n\""
      ]
     },
     "execution_count": 48,
     "metadata": {},
     "output_type": "execute_result"
    }
   ],
   "source": [
    "train_pred = blf.predict(X_train)\n",
    "\n",
    "Y_train_proba = blf.predict_proba(X_train)\n",
    "Y_test_proba = blf.predict_proba(X_test)"
   ]
  },
  {
   "cell_type": "code",
   "execution_count": 61,
   "id": "60f7c81e",
   "metadata": {},
   "outputs": [
    {
     "data": {
      "image/png": "[encoded data removed]",
      "text/plain": [
       "<Figure size 1200x600 with 4 Axes>"
      ]
     },
     "metadata": {},
     "output_type": "display_data"
    },
    {
     "data": {
      "image/png": "[encoded data removed]",
      "text/plain": [
       "<Figure size 1200x600 with 4 Axes>"
      ]
     },
     "metadata": {},
     "output_type": "display_data"
    }
   ],
   "source": [
    "fig, ax = plt.subplots(2,2,figsize=(12,6))\n",
    "for i,j in itertools.product(range(2),range(2)):\n",
    "    train_proba = Y_train_proba[(Y_train == i) & (train_pred == j),j]\n",
    "    test_proba = Y_test_proba[(Y_test == i) & (test_pred == j),j]\n",
    "    ax[i,j].hist(train_proba,25,weights=np.ones_like(train_proba)/len(train_proba),\n",
    "                 alpha=0.5,label='train')\n",
    "    ax[i,j].hist(test_proba,25,weights=np.ones_like(test_proba)/len(test_proba),\n",
    "                 alpha=0.5,label='test')\n",
    "    ax[i,j].set_xlim(0,1)\n",
    "    ax[i,j].set_ylim(0,0.3)\n",
    "    ax[i,j].grid()\n",
    "    ax[i,j].legend()\n",
    "\n",
    "fig, ax = plt.subplots(2,2,figsize=(12,6))\n",
    "for j in range(2):\n",
    "    for i in range(2):\n",
    "        train_proba = Y_train_proba[(y_train == i) & (train_pred == j),j]\n",
    "        ax[0,j].hist(train_proba,25,weights=np.ones_like(train_proba)/len(train_proba),\n",
    "                   alpha=0.5,label=str(i))\n",
    "        test_proba = Y_test_proba[(y_test == i) & (test_pred == j),j]\n",
    "        ax[1,j].hist(test_proba,25,weights=np.ones_like(test_proba)/len(test_proba),\n",
    "                   alpha=0.5,label=str(i))\n",
    "    ax[0,j].legend()\n",
    "    ax[0,j].set_xlim(0,1)\n",
    "    ax[0,j].set_ylim(0,0.25)\n",
    "    ax[0,j].grid()\n",
    "    ax[0,0].set_ylabel('train')\n",
    "\n",
    "    ax[1,j].legend()\n",
    "    ax[1,j].set_xlim(0,1)\n",
    "    ax[1,j].set_ylim(0,0.25)\n",
    "    ax[1,j].grid()\n",
    "    ax[1,0].set_ylabel('test')"
   ]
  },
  {
   "cell_type": "code",
   "execution_count": 57,
   "id": "52696b94",
   "metadata": {
    "scrolled": true
   },
   "outputs": [
    {
     "data": {
      "image/png": "[encoded data removed]",
      "text/plain": [
       "<Figure size 1600x500 with 2 Axes>"
      ]
     },
     "metadata": {},
     "output_type": "display_data"
    }
   ],
   "source": [
    "fig, ax = plt.subplots(1,2,figsize=(16,5))\n",
    "\n",
    "for i in range(2):\n",
    "    precision, recall, threshold \\\n",
    "        = metrics.precision_recall_curve(Y_train[train_pred == i] == i,\n",
    "                                         Y_train_proba[train_pred == i,i])\n",
    "    f1_score = 2*precision*recall/(precision + recall)\n",
    "    \n",
    "    ax[i].plot(threshold,precision[:-1],label='precision')\n",
    "    ax[i].plot(threshold,recall[:-1],label='recall')\n",
    "    ax[i].plot(threshold,f1_score[:-1],label='f1-score')\n",
    "    ax[i].axhline(0.5,color='brown')\n",
    "    ax[i].legend()\n",
    "    ax[i].grid()\n",
    "    ax[i].set_title(f'{i}: threshold vs. precision, recall')\n",
    "    ax[i].set_xlabel('threshold')"
   ]
  },
  {
   "cell_type": "markdown",
   "id": "0a5d9f85-ef83-4f1a-bd7d-99716af34937",
   "metadata": {},
   "source": [
    "# Per Day performance\n",
    "\n",
    "But this still does not mean we can trade it. Consider hypothetically precision is 75% for three ETFs for two days. The first day has all ETF values greater than threshold and was successful. On the second day, two ETFs below threshold and one being failure. Then we overall have one success day and one fail day cancelling it out. Hence, we need to look at the per-day success, not per opportunity."
   ]
  },
  {
   "cell_type": "code",
   "execution_count": 64,
   "id": "48a7a266-8955-4c98-ad0c-abec1be6e020",
   "metadata": {},
   "outputs": [],
   "source": [
    "train_pred_df = pd.DataFrame(train_pred,index=X_train.index)\n",
    "train_proba_df = pd.DataFrame(Y_train_proba,index=X_train.index,columns=(0,1))"
   ]
  },
  {
   "cell_type": "code",
   "execution_count": 69,
   "id": "6cf73271-8c3e-4b33-96ec-b47a43cf78d0",
   "metadata": {
    "scrolled": false
   },
   "outputs": [
    {
     "data": {
      "text/plain": [
       "<matplotlib.legend.Legend at 0x483283b50>"
      ]
     },
     "execution_count": 69,
     "metadata": {},
     "output_type": "execute_result"
    },
    {
     "data": {
      "image/png": "[encoded data removed]",
      "text/plain": [
       "<Figure size 1600x1200 with 2 Axes>"
      ]
     },
     "metadata": {},
     "output_type": "display_data"
    }
   ],
   "source": [
    "fig, ax = plt.subplots(2,figsize=(16,12))\n",
    "in_success = [(2*(0 == y_train[train_pred == 0][train_proba_df[train_pred == 0].loc[:,0] > e])-1\n",
    "                 ).groupby(level=[0]).mean().sum()\n",
    "    for e in np.arange(0.34,1,0.01)]\n",
    "ax[0].plot(np.arange(0.34,1,0.01),bound_success,label='in success')\n",
    "ax[0].plot(np.arange(0.34,1,0.01)[np.argmax(bound_success)],np.max(bound_success),'.',\n",
    "           label=f'best threshold {np.arange(0.34,1,0.01)[np.argmax(bound_success)]:.2f},{np.max(bound_success):.2f}')\n",
    "ax[0].set_xlabel('threshold')\n",
    "ax[0].legend()\n",
    "\n",
    "out_success = [(2*(1 == y_train[train_pred == 1][train_proba_df[train_pred == 1].loc[:,1] > e])-1\n",
    "              ).groupby(level=[0]).mean().sum()\n",
    "    for e in np.arange(0.34,0.84,0.01)]\n",
    "ax[1].plot(np.arange(0.34,0.84,0.01),up_success,label='out success')\n",
    "ax[1].plot(np.arange(0.34,0.84,0.01)[np.argmax(up_success)],np.max(up_success),'.',\n",
    "           label=f'best threshold {np.arange(0.34,0.84,0.01)[np.argmax(up_success)]:.2f},{np.max(up_success):.2f}')\n",
    "ax[1].set_xlabel('threshold')\n",
    "ax[1].legend()"
   ]
  },
  {
   "cell_type": "code",
   "execution_count": 95,
   "id": "f4371405",
   "metadata": {},
   "outputs": [],
   "source": [
    "import pickle\n",
    "import base64\n",
    "\n",
    "pickle_bytes = pickle.dumps(blf)\n",
    "base64_str = base64.b64encode(pickle_bytes).decode('utf-8')\n",
    "\n",
    "# Save the model string to a file on your local machine\n",
    "with open('SK_10_1.0.txt', 'w') as file:\n",
    "    file.write(base64_str)"
   ]
  },
  {
   "cell_type": "code",
   "execution_count": null,
   "id": "fcab6a97",
   "metadata": {},
   "outputs": [],
   "source": []
  }
 ],
 "metadata": {
  "kernelspec": {
   "display_name": "Python 3 (ipykernel)",
   "language": "python",
   "name": "python3"
  },
  "language_info": {
   "codemirror_mode": {
    "name": "ipython",
    "version": 3
   },
   "file_extension": ".py",
   "mimetype": "text/x-python",
   "name": "python",
   "nbconvert_exporter": "python",
   "pygments_lexer": "ipython3",
   "version": "3.10.8"
  }
 },
 "nbformat": 4,
 "nbformat_minor": 5
}
